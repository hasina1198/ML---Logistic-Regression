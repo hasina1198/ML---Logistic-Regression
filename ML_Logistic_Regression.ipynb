{
  "nbformat": 4,
  "nbformat_minor": 0,
  "metadata": {
    "kernelspec": {
      "display_name": "Python 3",
      "language": "python",
      "name": "python3"
    },
    "language_info": {
      "codemirror_mode": {
        "name": "ipython",
        "version": 3
      },
      "file_extension": ".py",
      "mimetype": "text/x-python",
      "name": "python",
      "nbconvert_exporter": "python",
      "pygments_lexer": "ipython3",
      "version": "3.6.5"
    },
    "colab": {
      "name": "ML- Logistic Regression.ipynb",
      "provenance": [],
      "include_colab_link": true
    }
  },
  "cells": [
    {
      "cell_type": "markdown",
      "metadata": {
        "id": "view-in-github",
        "colab_type": "text"
      },
      "source": [
        "<a href=\"https://colab.research.google.com/github/hasina1198/ML---Logistic-Regression/blob/master/ML_Logistic_Regression.ipynb\" target=\"_parent\"><img src=\"https://colab.research.google.com/assets/colab-badge.svg\" alt=\"Open In Colab\"/></a>"
      ]
    },
    {
      "cell_type": "markdown",
      "metadata": {
        "id": "5vvX4LUwlDev",
        "colab_type": "text"
      },
      "source": [
        "# <span style=\"color:#0b486b\">Machine Learning - Logistic Regression</span>\n",
        "\n",
        "---\n",
        "\n",
        "\n",
        "**Objective:**\n",
        "You need to demonstrate your skills for applying regularized logistic regression to perform two-class and multi-class classification for real-world tasks. You also need to demonstrate your skill in recognizing under-fitting/overfitting situations. \n",
        "\n",
        "### Part-1 (Binary Classification):\n",
        "\n",
        "For this problem, we will use a subset of [Wisconsin Breast cancer dataset](https://archive.ics.uci.edu/ml/datasets/Breast+Cancer+Wisconsin+(Diagnostic). Note that this dataset has some information missing. \n",
        "\n",
        "**1.1 Data Munging (3 Marks)** \n",
        "\n",
        "Cleaning the data is essential when dealing with real world problems. Training and testing data is stored in \"data/wisconsin_data\" folder. You have to perform the following:\n",
        "* Read the training and testing data. Print the number of features in the dataset.\n",
        "* For the data label, print the total number of 1's and 0's in the training and testing data. Comment on the class distribution. Is it balanced or unbalanced?\n",
        "* Print the number of features with missing entries.\n",
        "* Fill the missing entries. For filling any feature, you can use either mean or median value of the feature values from observed entries.\n",
        "* Normalize the training and testing data.\n",
        "\n",
        "**1.2 Logistic Regression (5 Marks) ** \n",
        "Train logistic regression models with L1 regularization and L2 regularization using alpha = 0.1 and lambda = 0.1. Report accuracy, precision, recall, f1-score and print the confusion matrix.\n",
        "\n",
        "**1.3 Choosing the best hyper-parameter (7 Marks)** \n",
        "* For L1 model, choose the best alpha value from the following set: {0.1,1,3,10,33,100,333,1000, 3333, 10000, 33333}.\n",
        "* For L2 model, choose the best lambda value from the following set: {0.001, 0.003, 0.01, 0.03, 0.1,0.3,1,3,10,33}.\n",
        "\n",
        "To choose the best hyperparameter (alpha/lambda) value, you have to do the following:\n",
        "* For each value of hyperparameter, perform 100 random splits of training data into training and validation data. \n",
        "* Find the average validation accuracy for each 100 train/validate pairs.\n",
        "The best hyperparameter will be the one that gives maximum validation accuracy. Use the best alpha and lambda parameter to re-train your final L1 and L2 regularized model. Evaluate the prediction performance on the test data and report the following:\n",
        "* Precision\n",
        "* Accuracy\n",
        "* The top 5 features selected in decreasing order of feature weights.\n",
        "* Confusion matrix\n",
        "\n",
        "Finally, discuss if there is any sign of underfitting or overfitting with appropriate reasoning.\n",
        "\n",
        "### Part-2 (Multiclass Classification):\n",
        "\n",
        "For this experiment, we will use a small subset of [MNIST dataset for handwritten digits](http://yann.lecun.com/exdb/mnist/). This dataset has no missing data. You will have to implement one-versus-rest scheme to perform multi-class classification using a binary classifier based on L1 regularized logistic regression. \n",
        "\n",
        "**2.1 Read and understand the data, create a default One-vs-Rest Classifier  (3 Marks) **\n",
        "\n",
        "1- Use the data from the file reduced_mnist.csv in the data directory. Begin by reading the data. Print the following information:\n",
        "\n",
        "* Number of data points\n",
        "* Total number of features\n",
        "* Unique labels in the data\n",
        "\n",
        "2- Split the data into 70% training data and 30% test data. Fit a One-vs-Rest Classifier (which uses Logistic regression classifier with alpha=1) on training data, and report accuracy, precision, recall on testing data.\n",
        "\n",
        "**2.2 Choosing the best hyper-parameter (7 Marks)**\n",
        "\n",
        "1- As in section **1.3** above, now create 10 random splits of training data into training and validation data. Choose the best value of alpha from the following set: {0.1, 1, 3, 10, 33, 100, 333, 1000, 3333, 10000, 33333}.\n",
        "To choose the best alpha hyperparameter value, you have to do the following:\n",
        "\n",
        "* For each value of hyperparameter, perform 10 random splits of training data into training and validation data as said above. \n",
        "* For each value of hyperparameter, use its 10 random splits and find the average training and validation accuracy.\n",
        "* On a graph, plot both the average training accuracy (in red) and average validation accuracy (in blue) w.r.t. each hyperparameter setting. Comment on this graph by identifying regions of overfitting and underfitting. \n",
        "* Print the best value of alpha hyperparameter.\n",
        "\n",
        "2- Evaluate the prediction performance on test data and report the following:\n",
        "* Total number of non-zero features in the final model.\n",
        "* The confusion matrix\n",
        "* Precision, recall and accuracy for each class.\n",
        "\n",
        "Finally, discuss if there is any sign of underfitting or overfitting with appropriate reasoning.\n",
        "\n",
        "## References\n",
        "* [Finding missing values](https://chartio.com/resources/tutorials/how-to-check-if-any-value-is-nan-in-a-pandas-dataframe)\n",
        "* [Titanic Problem](http://nbviewer.jupyter.org/github/agconti/kaggle-titanic/blob/master/Titanic.ipynb)\n",
        "* [Numpy: Sorting and Searching](http://docs.scipy.org/doc/numpy/reference/routines.sort.html)\n",
        "* [Multiclass Classification](http://scikit-learn.org/stable/modules/multiclass.html)"
      ]
    },
    {
      "cell_type": "code",
      "metadata": {
        "id": "niEIbwXSlDe4",
        "colab_type": "code",
        "colab": {},
        "outputId": "4a8f8edc-af4c-4aef-e29a-4077f9d47839"
      },
      "source": [
        "import numpy as np\n",
        "import pandas as pd\n",
        "import matplotlib.pyplot as plt\n",
        "from sklearn.preprocessing import scale\n",
        "from sklearn.linear_model import LogisticRegression\n",
        "from sklearn.metrics import accuracy_score\n",
        "from sklearn.metrics import precision_score\n",
        "from sklearn.metrics import recall_score\n",
        "from sklearn.metrics import f1_score\n",
        "from sklearn.metrics import confusion_matrix\n",
        "from sklearn.cross_validation import train_test_split\n",
        "\n",
        "#PART-1\n",
        "\n",
        "#1.1\n",
        "train = pd.read_csv(\"data/wisconsin_data/train_wbcd.csv\")\n",
        "test = pd.read_csv(\"data/wisconsin_data/test_wbcd.csv\")\n",
        "\n",
        "print(\"Number of features in the dataset:\")\n",
        "\n",
        "train_rows, train_cols = train.shape\n",
        "print(\"Training Data has: {} rows and {} cols\".format(train_rows, train_cols))\n",
        "\n",
        "test_rows, test_cols = test.shape\n",
        "print(\"Testing Data has: {} rows and {} cols\".format(test_rows, test_cols))\n"
      ],
      "execution_count": null,
      "outputs": [
        {
          "output_type": "stream",
          "text": [
            "C:\\ProgramData\\Anaconda3\\lib\\site-packages\\sklearn\\cross_validation.py:41: DeprecationWarning: This module was deprecated in version 0.18 in favor of the model_selection module into which all the refactored classes and functions are moved. Also note that the interface of the new CV iterators are different from that of this module. This module will be removed in 0.20.\n",
            "  \"This module will be removed in 0.20.\", DeprecationWarning)\n"
          ],
          "name": "stderr"
        },
        {
          "output_type": "stream",
          "text": [
            "Number of features in the dataset:\n",
            "Training Data has: 100 rows and 32 cols\n",
            "Testing Data has: 20 rows and 32 cols\n"
          ],
          "name": "stdout"
        }
      ]
    },
    {
      "cell_type": "code",
      "metadata": {
        "id": "gdRx2CQnlDfQ",
        "colab_type": "code",
        "colab": {},
        "outputId": "cc369cae-0d8b-4e22-fd17-65cf6392a96b"
      },
      "source": [
        "print(\"Total number of 1's and 0's in the training data:\")\n",
        "print(train.Diagnosis.value_counts())"
      ],
      "execution_count": null,
      "outputs": [
        {
          "output_type": "stream",
          "text": [
            "Total number of 1's and 0's in the training data:\n",
            "B    58\n",
            "M    42\n",
            "Name: Diagnosis, dtype: int64\n"
          ],
          "name": "stdout"
        }
      ]
    },
    {
      "cell_type": "code",
      "metadata": {
        "id": "YYxsVRuPlDfh",
        "colab_type": "code",
        "colab": {},
        "outputId": "55f628fe-41f0-4420-c595-f8fcc59ab27b"
      },
      "source": [
        "train.Diagnosis.value_counts().plot(kind='bar')"
      ],
      "execution_count": null,
      "outputs": [
        {
          "output_type": "execute_result",
          "data": {
            "text/plain": [
              "<matplotlib.axes._subplots.AxesSubplot at 0x9b19c18>"
            ]
          },
          "metadata": {
            "tags": []
          },
          "execution_count": 3
        },
        {
          "output_type": "display_data",
          "data": {
            "image/png": "[encoded data removed]",
            "text/plain": [
              "<Figure size 432x288 with 1 Axes>"
            ]
          },
          "metadata": {
            "tags": []
          }
        }
      ]
    },
    {
      "cell_type": "code",
      "metadata": {
        "id": "-eyqOv6NlDfx",
        "colab_type": "code",
        "colab": {},
        "outputId": "ec027c47-1115-4fe2-fa88-0abbd2226dae"
      },
      "source": [
        "print(\"Total number of 1's and 0's in the testing data:\")\n",
        "print(test.Diagnosis.value_counts())"
      ],
      "execution_count": null,
      "outputs": [
        {
          "output_type": "stream",
          "text": [
            "Total number of 1's and 0's in the testing data:\n",
            "B    14\n",
            "M     6\n",
            "Name: Diagnosis, dtype: int64\n"
          ],
          "name": "stdout"
        }
      ]
    },
    {
      "cell_type": "code",
      "metadata": {
        "id": "DL4MXFXulDgH",
        "colab_type": "code",
        "colab": {},
        "outputId": "e40f62ae-d59d-4722-86ce-c1f97780fcb8"
      },
      "source": [
        "test.Diagnosis.value_counts().plot(kind='bar')"
      ],
      "execution_count": null,
      "outputs": [
        {
          "output_type": "execute_result",
          "data": {
            "text/plain": [
              "<matplotlib.axes._subplots.AxesSubplot at 0xabbbe80>"
            ]
          },
          "metadata": {
            "tags": []
          },
          "execution_count": 5
        },
        {
          "output_type": "display_data",
          "data": {
            "image/png": "[encoded data removed]",
            "text/plain": [
              "<Figure size 432x288 with 1 Axes>"
            ]
          },
          "metadata": {
            "tags": []
          }
        }
      ]
    },
    {
      "cell_type": "code",
      "metadata": {
        "id": "tjRhkbQolDgX",
        "colab_type": "code",
        "colab": {},
        "outputId": "f554daaf-5ab5-45f2-d44c-e47fcaa9e93d"
      },
      "source": [
        "print(\"Number of features with missing entries:\")\n",
        "print(\"Training data:\")\n",
        "print(train.isnull().sum())\n",
        "print(\"Total in training data: \",train.isnull().sum().sum())\n",
        "print(\"Testing data:\")\n",
        "print(test.isnull().sum())\n",
        "print(\"Total in testing data: \",test.isnull().sum().sum())"
      ],
      "execution_count": null,
      "outputs": [
        {
          "output_type": "stream",
          "text": [
            "Number of features with missing entries:\n",
            "Training data:\n",
            "Patient_ID    0\n",
            "Diagnosis     0\n",
            "f1            0\n",
            "f2            0\n",
            "f3            0\n",
            "f4            0\n",
            "f5            0\n",
            "f6            0\n",
            "f7            0\n",
            "f8            0\n",
            "f9            0\n",
            "f10           0\n",
            "f11           0\n",
            "f12           0\n",
            "f13           0\n",
            "f14           0\n",
            "f15           0\n",
            "f16           0\n",
            "f17           0\n",
            "f18           0\n",
            "f19           0\n",
            "f20           0\n",
            "f21           2\n",
            "f22           0\n",
            "f23           0\n",
            "f24           0\n",
            "f25           0\n",
            "f26           0\n",
            "f27           0\n",
            "f28           0\n",
            "f29           0\n",
            "f30           0\n",
            "dtype: int64\n",
            "Total in training data:  2\n",
            "Testing data:\n",
            "Patient_ID    0\n",
            "Diagnosis     0\n",
            "f1            0\n",
            "f2            0\n",
            "f3            0\n",
            "f4            0\n",
            "f5            0\n",
            "f6            0\n",
            "f7            0\n",
            "f8            0\n",
            "f9            0\n",
            "f10           0\n",
            "f11           0\n",
            "f12           0\n",
            "f13           0\n",
            "f14           0\n",
            "f15           0\n",
            "f16           0\n",
            "f17           0\n",
            "f18           0\n",
            "f19           0\n",
            "f20           0\n",
            "f21           1\n",
            "f22           0\n",
            "f23           0\n",
            "f24           0\n",
            "f25           0\n",
            "f26           0\n",
            "f27           0\n",
            "f28           0\n",
            "f29           0\n",
            "f30           0\n",
            "dtype: int64\n",
            "Total in testing data:  1\n"
          ],
          "name": "stdout"
        }
      ]
    },
    {
      "cell_type": "code",
      "metadata": {
        "id": "KABdOlSulDgv",
        "colab_type": "code",
        "colab": {}
      },
      "source": [
        "train = train.fillna(train.mean())\n"
      ],
      "execution_count": null,
      "outputs": []
    },
    {
      "cell_type": "code",
      "metadata": {
        "id": "izNTb-AwlDhL",
        "colab_type": "code",
        "colab": {}
      },
      "source": [
        "test = test.fillna(test.mean())"
      ],
      "execution_count": null,
      "outputs": []
    },
    {
      "cell_type": "code",
      "metadata": {
        "id": "WgGBallZlDhb",
        "colab_type": "code",
        "colab": {}
      },
      "source": [
        "train_Y=train.iloc[:, 1]\n",
        "train_X=train.iloc[:, 2:]\n",
        "\n",
        "test_Y=test.iloc[:, 1]\n",
        "test_X=test.iloc[:, 2:]\n",
        "\n",
        "train_Xnorm = scale(train_X)\n",
        "test_Xnorm = scale(test_X)"
      ],
      "execution_count": null,
      "outputs": []
    },
    {
      "cell_type": "code",
      "metadata": {
        "id": "997hxMT-lDhq",
        "colab_type": "code",
        "colab": {},
        "outputId": "8ee355ef-e2a6-4c9f-ba5f-ef11661c8001"
      },
      "source": [
        "\n",
        "#1.2\n",
        "alpha_val = 0.1\n",
        "lr_l1 = LogisticRegression(C=1/alpha_val, penalty='l1')\n",
        "lr_l1.fit(train_Xnorm, train_Y)\n",
        "y_predict_l1 = lr_l1.predict(test_Xnorm)\n",
        "l1_acc = accuracy_score(y_predict_l1, test_Y)\n",
        "l1_recall = recall_score(y_predict_l1, test_Y, average = 'macro')\n",
        "l1_precision = precision_score(y_predict_l1, test_Y, average = 'macro')\n",
        "l1_f = f1_score(y_predict_l1, test_Y, average = 'macro')\n",
        "l1_confusion = confusion_matrix(y_predict_l1, test_Y)\n",
        "\n",
        "print(\"Model Accuracy is: {}\".format(l1_acc))\n",
        "print(\"Model Recall is: {}\".format(l1_recall))\n",
        "print(\"Model Precision is: {}\".format(l1_precision))\n",
        "print(\"Model  F1-score is: {}\".format(l1_f))\n",
        "\n",
        "plt.clf()\n",
        "plt.imshow(l1_confusion, interpolation='nearest', cmap=plt.cm.Wistia)\n",
        "classNames = ['B', 'M']\n",
        "plt.title('Model Confusion Matrix')\n",
        "plt.ylabel('True Label')\n",
        "plt.xlabel('Predicted Label')\n",
        "tick_marks = np.arange(len(classNames))\n",
        "plt.xticks(tick_marks, classNames, rotation=45)\n",
        "plt.yticks(tick_marks, classNames)\n",
        "for i in range(len(classNames)):\n",
        "    for j in range(len(classNames)):\n",
        "        plt.text(j,i,str(l1_confusion[i][j]))\n",
        "plt.show()\n"
      ],
      "execution_count": null,
      "outputs": [
        {
          "output_type": "stream",
          "text": [
            "Model Accuracy is: 0.9\n",
            "Model Recall is: 0.8809523809523809\n",
            "Model Precision is: 0.8809523809523809\n",
            "Model  F1-score is: 0.8809523809523809\n"
          ],
          "name": "stdout"
        },
        {
          "output_type": "display_data",
          "data": {
            "image/png": "[encoded data removed]",
            "text/plain": [
              "<Figure size 432x288 with 1 Axes>"
            ]
          },
          "metadata": {
            "tags": []
          }
        }
      ]
    },
    {
      "cell_type": "code",
      "metadata": {
        "id": "-qjTFdfdlDh9",
        "colab_type": "code",
        "colab": {},
        "outputId": "3e3ff8f7-6137-4f6f-b196-f4369d2d9fe5"
      },
      "source": [
        "lambda_val = 0.1\n",
        "lr_l2 = LogisticRegression(C=1/lambda_val, penalty='l2')\n",
        "lr_l2.fit(train_Xnorm, train_Y)\n",
        "y_predict_l2 = lr_l2.predict(test_Xnorm)\n",
        "l2_acc = accuracy_score(y_predict_l2, test_Y)\n",
        "l2_recall = recall_score(y_predict_l2, test_Y, average = 'macro')\n",
        "l2_precision = precision_score(y_predict_l2, test_Y, average = 'macro')\n",
        "l2_f = f1_score(y_predict_l2, test_Y, average = 'macro')\n",
        "l2_confusion = confusion_matrix(y_predict_l2, test_Y)\n",
        "\n",
        "print(\"Model Accuracy is: {}\".format(l2_acc))\n",
        "print(\"Model Recall is: {}\".format(l2_recall))\n",
        "print(\"Model Precision is: {}\".format(l2_precision))\n",
        "print(\"Model  F1-score is: {}\".format(l2_f))\n",
        "\n",
        "plt.clf()\n",
        "plt.imshow(l2_confusion, interpolation='nearest', cmap=plt.cm.Wistia)\n",
        "classNames = ['B', 'M']\n",
        "plt.title('Model Confusion Matrix')\n",
        "plt.ylabel('True Label')\n",
        "plt.xlabel('Predicted Label')\n",
        "tick_marks = np.arange(len(classNames))\n",
        "plt.xticks(tick_marks, classNames, rotation=45)\n",
        "plt.yticks(tick_marks, classNames)\n",
        "for i in range(len(classNames)):\n",
        "    for j in range(len(classNames)):\n",
        "        plt.text(j,i,str(l2_confusion[i][j]))\n",
        "plt.show()\n"
      ],
      "execution_count": null,
      "outputs": [
        {
          "output_type": "stream",
          "text": [
            "Model Accuracy is: 0.9\n",
            "Model Recall is: 0.8809523809523809\n",
            "Model Precision is: 0.8809523809523809\n",
            "Model  F1-score is: 0.8809523809523809\n"
          ],
          "name": "stdout"
        },
        {
          "output_type": "display_data",
          "data": {
            "image/png": "[encoded data removed]",
            "text/plain": [
              "<Figure size 432x288 with 1 Axes>"
            ]
          },
          "metadata": {
            "tags": []
          }
        }
      ]
    },
    {
      "cell_type": "code",
      "metadata": {
        "id": "X-kqml0zlDiM",
        "colab_type": "code",
        "colab": {}
      },
      "source": [
        "\n",
        "#1.3\n",
        "def runLRmodel(trials, penalty_type, penalty_score):\n",
        "\n",
        "   model_acc     = 0\n",
        "\n",
        "   for i in range(0,trials):\n",
        "      lr = LogisticRegression(C=1/penalty_score, penalty=penalty_type)\n",
        "      lr.fit(train_Xnorm, train_Y)\n",
        "      y_predict = lr.predict(test_Xnorm)\n",
        "      model_acc += accuracy_score(y_predict, test_Y)\n",
        "\n",
        "   model_acc /= trials\n",
        "\n",
        "   return np.round(model_acc, decimals=2)\n"
      ],
      "execution_count": null,
      "outputs": []
    },
    {
      "cell_type": "code",
      "metadata": {
        "id": "-VzpAlprlDil",
        "colab_type": "code",
        "colab": {},
        "outputId": "ba6f3aa0-eaeb-4d22-f7e9-f6df68fd9cf8"
      },
      "source": [
        "alpha_vals = [0.1,1,3,10,33,100,333,1000, 3333, 10000, 33333]\n",
        "l1_acc = np.zeros(len(alpha_vals))\n",
        "index = 0\n",
        "for l in alpha_vals:\n",
        "   l1_acc[index]= runLRmodel(100, 'l1', np.float(l))\n",
        "   index += 1\n",
        "\n",
        "print(\"Acc: {}\".format(l1_acc))\n",
        "max_index_l1  = np.argmax(l1_acc)\n",
        "best_alpha = alpha_vals[max_index_l1]\n",
        "print(\"Best Alpha: {}\".format(best_alpha))"
      ],
      "execution_count": null,
      "outputs": [
        {
          "output_type": "stream",
          "text": [
            "Acc: [0.9  0.95 0.95 0.9  0.95 0.7  0.7  0.7  0.7  0.7  0.7 ]\n",
            "Best Alpha: 1\n"
          ],
          "name": "stdout"
        }
      ]
    },
    {
      "cell_type": "code",
      "metadata": {
        "id": "AzmMAo1olDiz",
        "colab_type": "code",
        "colab": {},
        "outputId": "17bcf642-071a-4376-bfdf-20d7a2a81bbb"
      },
      "source": [
        "lambda_vals = [0.001, 0.003, 0.01, 0.03, 0.1,0.3,1,3,10,33]\n",
        "l2_acc = np.zeros(len(lambda_vals))\n",
        "index = 0\n",
        "for l in lambda_vals:\n",
        "   l2_acc[index] = runLRmodel(100, 'l2', np.float(l))\n",
        "   index += 1\n",
        "\n",
        "print(\"Acc: {}\".format(l2_acc))\n",
        "max_index_l2  = np.argmax(l2_acc)\n",
        "best_lambda = lambda_vals[max_index_l2]\n",
        "print(\"Best Lambda: {}\".format(best_lambda))\n"
      ],
      "execution_count": null,
      "outputs": [
        {
          "output_type": "stream",
          "text": [
            "Acc: [0.85 0.85 0.9  0.9  0.9  0.9  0.95 0.95 0.95 0.95]\n",
            "Best Lambda: 1\n"
          ],
          "name": "stdout"
        }
      ]
    },
    {
      "cell_type": "code",
      "metadata": {
        "id": "logY5Rz2lDjD",
        "colab_type": "code",
        "colab": {},
        "outputId": "7bd238b3-ab9b-405e-9cd8-414d11122522"
      },
      "source": [
        "\n",
        "plt.plot(range(0,len(alpha_vals)), l1_acc, color='r', label='L1')\n",
        "\n",
        "plt.xticks(range(0,len(alpha_vals)), alpha_vals, rotation='vertical')\n",
        "\n",
        "plt.plot((max_index_l1, max_index_l1), (0, l1_acc[max_index_l1]), ls='dotted', color='r')\n",
        "\n",
        "axes = plt.gca()\n",
        "axes.set_ylim([0, 1.0])\n",
        "\n",
        "plt.legend(loc=\"lower left\")\n",
        "plt.show()"
      ],
      "execution_count": null,
      "outputs": [
        {
          "output_type": "display_data",
          "data": {
            "image/png": "[encoded data removed]",
            "text/plain": [
              "<Figure size 432x288 with 1 Axes>"
            ]
          },
          "metadata": {
            "tags": []
          }
        }
      ]
    },
    {
      "cell_type": "code",
      "metadata": {
        "id": "jonlOjrvlDjP",
        "colab_type": "code",
        "colab": {},
        "outputId": "bb667d53-389b-49fb-e71a-c8e2b59eafb4"
      },
      "source": [
        "plt.plot(range(0,len(lambda_vals)), l2_acc, color='b', label='L2')\n",
        "\n",
        "plt.xticks(range(0,len(lambda_vals)), lambda_vals, rotation='vertical')\n",
        "\n",
        "plt.plot((max_index_l2, max_index_l2), (0, l2_acc[max_index_l2]), ls='dotted', color='b')\n",
        "\n",
        "axes = plt.gca()\n",
        "axes.set_ylim([0, 1.0])\n",
        "\n",
        "plt.legend(loc=\"lower left\")\n",
        "plt.show()"
      ],
      "execution_count": null,
      "outputs": [
        {
          "output_type": "display_data",
          "data": {
            "image/png": "[encoded data removed]",
            "text/plain": [
              "<Figure size 432x288 with 1 Axes>"
            ]
          },
          "metadata": {
            "tags": []
          }
        }
      ]
    },
    {
      "cell_type": "code",
      "metadata": {
        "id": "fb3DbLKdlDjd",
        "colab_type": "code",
        "colab": {},
        "outputId": "c718b5c6-72ea-4943-cf5a-0db7b5e0fa01"
      },
      "source": [
        "alpha_val = 1\n",
        "lr_l1 = LogisticRegression(C=1/alpha_val, penalty='l1')\n",
        "lr_l1.fit(train_Xnorm, train_Y)\n",
        "y_predict_l1 = lr_l1.predict(test_Xnorm)\n",
        "l1_acc = accuracy_score(y_predict_l1, test_Y)\n",
        "l1_recall = recall_score(y_predict_l1, test_Y, average = 'macro')\n",
        "l1_precision = precision_score(y_predict_l1, test_Y, average = 'macro')\n",
        "l1_f = f1_score(y_predict_l1, test_Y, average = 'macro')\n",
        "l1_confusion = confusion_matrix(y_predict_l1, test_Y)\n",
        "\n",
        "print(\"Model Accuracy is: {}\".format(l1_acc))\n",
        "print(\"Model Recall is: {}\".format(l1_recall))\n",
        "print(\"Model Precision is: {}\".format(l1_precision))\n",
        "print(\"Model  F1-score is: {}\".format(l1_f))\n",
        "\n",
        "plt.clf()\n",
        "plt.imshow(l1_confusion, interpolation='nearest', cmap=plt.cm.Wistia)\n",
        "classNames = ['B', 'M']\n",
        "plt.title('Model Confusion Matrix')\n",
        "plt.ylabel('True Label')\n",
        "plt.xlabel('Predicted Label')\n",
        "tick_marks = np.arange(len(classNames))\n",
        "plt.xticks(tick_marks, classNames, rotation=45)\n",
        "plt.yticks(tick_marks, classNames)\n",
        "for i in range(len(classNames)):\n",
        "    for j in range(len(classNames)):\n",
        "        plt.text(j,i,str(l1_confusion[i][j]))\n",
        "plt.show()\n",
        "\n",
        "l1_coef = lr_l1.coef_\n",
        "l1_features = np.argsort(-l1_coef)+1\n",
        "print(\"The Top 5 features are feature number: \",l1_features[:5,:5])\n"
      ],
      "execution_count": null,
      "outputs": [
        {
          "output_type": "stream",
          "text": [
            "Model Accuracy is: 0.95\n",
            "Model Recall is: 0.9666666666666667\n",
            "Model Precision is: 0.9166666666666667\n",
            "Model  F1-score is: 0.9373040752351097\n"
          ],
          "name": "stdout"
        },
        {
          "output_type": "display_data",
          "data": {
            "image/png": "[encoded data removed]",
            "text/plain": [
              "<Figure size 432x288 with 1 Axes>"
            ]
          },
          "metadata": {
            "tags": []
          }
        },
        {
          "output_type": "stream",
          "text": [
            "The Top 5 features are feature number:  [[23 22 25  8 30]]\n"
          ],
          "name": "stdout"
        }
      ]
    },
    {
      "cell_type": "code",
      "metadata": {
        "id": "0Jii4MQTlDjw",
        "colab_type": "code",
        "colab": {},
        "outputId": "973457bb-b5e0-4cbf-ee3f-bd481d19c85f"
      },
      "source": [
        "lambda_val = 1\n",
        "lr_l2 = LogisticRegression(C=1/lambda_val, penalty='l2')\n",
        "lr_l2.fit(train_Xnorm, train_Y)\n",
        "y_predict_l2 = lr_l2.predict(test_Xnorm)\n",
        "l2_acc = accuracy_score(y_predict_l2, test_Y)\n",
        "l2_recall = recall_score(y_predict_l2, test_Y, average = 'macro')\n",
        "l2_precision = precision_score(y_predict_l2, test_Y, average = 'macro')\n",
        "l2_f = f1_score(y_predict_l2, test_Y, average = 'macro')\n",
        "l2_confusion = confusion_matrix(y_predict_l2, test_Y)\n",
        "\n",
        "print(\"Model Accuracy is: {}\".format(l2_acc))\n",
        "print(\"Model Recall is: {}\".format(l2_recall))\n",
        "print(\"Model Precision is: {}\".format(l2_precision))\n",
        "print(\"Model  F1-score is: {}\".format(l2_f))\n",
        "\n",
        "plt.clf()\n",
        "plt.imshow(l2_confusion, interpolation='nearest', cmap=plt.cm.Wistia)\n",
        "classNames = ['B', 'M']\n",
        "plt.title('Model Confusion Matrix')\n",
        "plt.ylabel('True Label')\n",
        "plt.xlabel('Predicted Label')\n",
        "tick_marks = np.arange(len(classNames))\n",
        "plt.xticks(tick_marks, classNames, rotation=45)\n",
        "plt.yticks(tick_marks, classNames)\n",
        "for i in range(len(classNames)):\n",
        "    for j in range(len(classNames)):\n",
        "        plt.text(j,i,str(l2_confusion[i][j]))\n",
        "        \n",
        "plt.show()\n",
        "\n",
        "l2_coef = lr_l2.coef_\n",
        "l2_features = np.argsort(-l2_coef)+1\n",
        "print(\"The Top 5 features are feature number: \",l2_features[:5,:5])\n"
      ],
      "execution_count": null,
      "outputs": [
        {
          "output_type": "stream",
          "text": [
            "Model Accuracy is: 0.95\n",
            "Model Recall is: 0.9666666666666667\n",
            "Model Precision is: 0.9166666666666667\n",
            "Model  F1-score is: 0.9373040752351097\n"
          ],
          "name": "stdout"
        },
        {
          "output_type": "display_data",
          "data": {
            "image/png": "[encoded data removed]",
            "text/plain": [
              "<Figure size 432x288 with 1 Axes>"
            ]
          },
          "metadata": {
            "tags": []
          }
        },
        {
          "output_type": "stream",
          "text": [
            "The Top 5 features are feature number:  [[22  2 23 25 21]]\n"
          ],
          "name": "stdout"
        }
      ]
    },
    {
      "cell_type": "code",
      "metadata": {
        "id": "j7Ws4SKTlDkA",
        "colab_type": "code",
        "colab": {},
        "outputId": "0a1201e7-a35e-4c5d-c04b-acf725444d0a"
      },
      "source": [
        "\n",
        "#PART-2\n",
        "\n",
        "#2.1\n",
        "\n",
        "dataset = pd.read_csv(\"data/mnist/reduced_mnist.csv\")\n",
        "\n",
        "print(\"Number of data points in the dataset:\")\n",
        "\n",
        "rows, cols = dataset.shape\n",
        "print(\"Data has: {} rows and {} cols\".format(rows, cols))\n",
        "\n",
        "print(\"Number of features in the dataset:\")\n",
        "\n",
        "print(\"Data has: {} featuress:\".format(cols-1))\n",
        "\n",
        "print(\"Labels in the dataset:\")\n",
        "print(dataset.label.value_counts())\n"
      ],
      "execution_count": null,
      "outputs": [
        {
          "output_type": "stream",
          "text": [
            "Number of data points in the dataset:\n",
            "Data has: 2520 rows and 785 cols\n",
            "Number of features in the dataset:\n",
            "Data has: 784 featuress:\n",
            "Labels in the dataset:\n",
            "1    286\n",
            "2    269\n",
            "3    258\n",
            "0    257\n",
            "7    256\n",
            "6    243\n",
            "4    243\n",
            "8    239\n",
            "9    238\n",
            "5    231\n",
            "Name: label, dtype: int64\n"
          ],
          "name": "stdout"
        }
      ]
    },
    {
      "cell_type": "code",
      "metadata": {
        "id": "wBCxKq5HlDkO",
        "colab_type": "code",
        "colab": {},
        "outputId": "7d3b2444-585f-49a6-dee3-8ce81992a5c1"
      },
      "source": [
        "\n",
        "Dtrain,Dtest = train_test_split(dataset, test_size=0.3)\n",
        "\n",
        "print(Dtrain.shape)\n",
        "print(Dtest.shape)\n"
      ],
      "execution_count": null,
      "outputs": [
        {
          "output_type": "stream",
          "text": [
            "(1764, 785)\n",
            "(756, 785)\n"
          ],
          "name": "stdout"
        }
      ]
    },
    {
      "cell_type": "code",
      "metadata": {
        "id": "bm169L44lDkd",
        "colab_type": "code",
        "colab": {},
        "outputId": "28dad8cd-5c15-41fc-f715-7afa2991e721"
      },
      "source": [
        "\n",
        "train_Y=Dtrain.iloc[:, 0]\n",
        "train_X=Dtrain.iloc[:, 1:]\n",
        "\n",
        "test_Y=Dtest.iloc[:, 0]\n",
        "test_X=Dtest.iloc[:, 1:]\n",
        "\n",
        "alpha_val = 0.1\n",
        "lr = LogisticRegression(C=1/alpha_val, penalty='l1', multi_class='ovr')sni\n",
        "lr.fit(train_X, train_Y)\n",
        "y_predict = lr.predict(train_X)\n",
        "acc = accuracy_score(y_predict, train_Y)\n",
        "recall = recall_score(y_predict, train_Y, average = 'macro')\n",
        "precision = precision_score(y_predict, train_Y, average = 'macro')\n",
        "f = f1_score(y_predict, train_Y, average = 'macro')\n",
        "confusion = confusion_matrix(y_predict, train_Y)\n",
        "\n",
        "print(\"Model Accuracy is: {}\".format(acc))\n",
        "print(\"Model Recall is: {}\".format(recall))\n",
        "print(\"Model Precision is: {}\".format(precision))\n",
        "print(\"Model  F1-score is: {}\".format(f))\n",
        "plt.clf()\n",
        "plt.imshow(confusion, interpolation='nearest', cmap=plt.cm.Wistia)\n",
        "classNames = ['1','2', '3', '0', '7', '6', '4', '8', '9', '5']\n",
        "plt.title('Model Confusion Matrix')\n",
        "plt.ylabel('True Label')\n",
        "plt.xlabel('Predicted Label')\n",
        "tick_marks = np.arange(len(classNames))\n",
        "plt.xticks(tick_marks, classNames, rotation=45)\n",
        "plt.yticks(tick_marks, classNames)\n",
        "for i in range(len(classNames)):\n",
        "    for j in range(len(classNames)):\n",
        "        plt.text(j,i,str(confusion[i][j]))\n",
        "        \n",
        "plt.show()\n"
      ],
      "execution_count": null,
      "outputs": [
        {
          "output_type": "stream",
          "text": [
            "Model Accuracy is: 1.0\n",
            "Model Recall is: 1.0\n",
            "Model Precision is: 1.0\n",
            "Model  F1-score is: 1.0\n"
          ],
          "name": "stdout"
        },
        {
          "output_type": "display_data",
          "data": {
            "image/png": "[encoded data removed]",
            "text/plain": [
              "<Figure size 432x288 with 1 Axes>"
            ]
          },
          "metadata": {
            "tags": []
          }
        }
      ]
    },
    {
      "cell_type": "code",
      "metadata": {
        "id": "nbjUZAPPlDkt",
        "colab_type": "code",
        "colab": {}
      },
      "source": [
        "\n",
        "#2.2\n",
        "def runLRmodelmc(trials, data, penalty_type, penalty_score):\n",
        "\n",
        "   model_accv     = 0\n",
        "   model_acct     = 0\n",
        "\n",
        "   for i in range(0,trials):\n",
        "      Dtrain, Dtest = train_test_split(data, test_size=0.3)\n",
        "      train_Y = Dtrain.iloc[:, 0]\n",
        "      train_X = Dtrain.iloc[:, 1:]\n",
        "\n",
        "      test_Y = Dtest.iloc[:, 0]\n",
        "      test_X = Dtest.iloc[:, 1:]\n",
        "      lr = LogisticRegression(C=1/penalty_score, penalty=penalty_type, multi_class='ovr')\n",
        "      lr.fit(train_X, train_Y)\n",
        "      y_predictv = lr.predict(test_X)\n",
        "      y_predictt = lr.predict(train_X)\n",
        "      model_accv += accuracy_score(y_predictv, test_Y)\n",
        "      model_acct += accuracy_score(y_predictt, train_Y)\n",
        "\n",
        "   model_accv /= trials\n",
        "   model_acct /= trials\n",
        "\n",
        "   return np.round(model_accv, decimals=2),np.round(model_acct, decimals=2)"
      ],
      "execution_count": null,
      "outputs": []
    },
    {
      "cell_type": "code",
      "metadata": {
        "id": "4Rw42Ja9lDk7",
        "colab_type": "code",
        "colab": {},
        "outputId": "047eea99-c2e2-4905-daf4-0eb0ab1506e2"
      },
      "source": [
        "alpha_vals = [0.1, 1, 3, 10, 33, 100, 333, 1000, 3333, 10000, 33333]\n",
        "l1_accv = np.zeros(len(alpha_vals))\n",
        "l1_acct = np.zeros(len(alpha_vals))\n",
        "index = 0\n",
        "\n",
        "for l in alpha_vals:\n",
        "    l1_accv[index],l1_acct[index]= runLRmodelmc(10, Dtrain, 'l1', np.float(l))\n",
        "    index += 1\n",
        "\n",
        "print(\"Validation Accuracy: {}\".format(l1_accv))\n",
        "print(\"Training Accuracy: {}\".format(l1_acct))\n",
        "max_index_v  = np.argmax(l1_accv)\n",
        "best_alpha_v = alpha_vals[max_index_v]\n",
        "max_index_t  = np.argmax(l1_acct)\n",
        "best_alpha_t = alpha_vals[max_index_t]\n",
        "print(\"Best validation Alpha: {}\".format(best_alpha_v))\n",
        "print(\"Best Training Alpha: {}\".format(best_alpha_t))"
      ],
      "execution_count": null,
      "outputs": [
        {
          "output_type": "stream",
          "text": [
            "Validation Accuracy: [0.84 0.84 0.83 0.84 0.84 0.84 0.86 0.84 0.79 0.7  0.54]\n",
            "Training Accuracy: [1.   1.   1.   1.   1.   1.   0.97 0.91 0.83 0.73 0.56]\n",
            "Best validation Alpha: 333\n",
            "Best Training Alpha: 0.1\n"
          ],
          "name": "stdout"
        }
      ]
    },
    {
      "cell_type": "code",
      "metadata": {
        "id": "fLYKWbZvlDlI",
        "colab_type": "code",
        "colab": {},
        "outputId": "fdd92ab3-2629-4eef-c6b2-45929136acba"
      },
      "source": [
        "\n",
        "plt.plot(range(0,len(alpha_vals)), l1_accv, color='b', label='Validation')\n",
        "plt.plot(range(0,len(alpha_vals)), l1_acct, color='r', label='Training')\n",
        "plt.xticks(range(0,len(lambda_vals)), alpha_vals, rotation='vertical')\n",
        "\n",
        "plt.plot((max_index_v, max_index_v), (0, l1_accv[max_index_v]), ls='dotted', color='b')\n",
        "plt.plot((max_index_t, max_index_t), (0, l1_acct[max_index_t]), ls='dotted', color='r')\n",
        "\n",
        "#Set the y-axis from 0 to 1.0\n",
        "axes = plt.gca()\n",
        "axes.set_ylim([0, 1.0])\n",
        "\n",
        "plt.legend(loc=\"lower left\")\n",
        "plt.show()"
      ],
      "execution_count": null,
      "outputs": [
        {
          "output_type": "display_data",
          "data": {
            "image/png": "[encoded data removed]",
            "text/plain": [
              "<Figure size 432x288 with 1 Axes>"
            ]
          },
          "metadata": {
            "tags": []
          }
        }
      ]
    },
    {
      "cell_type": "code",
      "metadata": {
        "id": "XG4lUwVzlDlj",
        "colab_type": "code",
        "colab": {},
        "outputId": "ad4abcae-d2de-4199-e68d-c40dc111559d"
      },
      "source": [
        "alpha_val = 333\n",
        "lr = LogisticRegression(C=1/alpha_val, penalty='l1', multi_class='ovr')\n",
        "lr.fit(train_X, train_Y)\n",
        "y_predict = lr.predict(test_X)\n",
        "acc = accuracy_score(y_predict, test_Y)\n",
        "recall = recall_score(y_predict, test_Y, average = 'macro')\n",
        "precision = precision_score(y_predict, test_Y, average = 'macro')\n",
        "f = f1_score(y_predict, test_Y, average = 'macro')\n",
        "confusion = confusion_matrix(y_predict, test_Y)\n",
        "\n",
        "print(\"Model Accuracy is: {}\".format(acc))\n",
        "print(\"Model Recall is: {}\".format(recall))\n",
        "print(\"Model Precision is: {}\".format(precision))\n",
        "print(\"Model F1-score is: {}\".format(f))\n",
        "\n",
        "plt.clf()\n",
        "plt.imshow(confusion, interpolation='nearest', cmap=plt.cm.Wistia)\n",
        "classNames = ['1','2', '3', '0', '7', '6', '4', '8', '9', '5']\n",
        "plt.title('Model Confusion Matrix')\n",
        "plt.ylabel('True Label')\n",
        "plt.xlabel('Predicted Label')\n",
        "tick_marks = np.arange(len(classNames))\n",
        "plt.xticks(tick_marks, classNames, rotation=45)\n",
        "plt.yticks(tick_marks, classNames)\n",
        "for i in range(len(classNames)):\n",
        "    for j in range(len(classNames)):\n",
        "        plt.text(j,i,str(confusion[i][j]))\n",
        "plt.show()\n"
      ],
      "execution_count": null,
      "outputs": [
        {
          "output_type": "stream",
          "text": [
            "Model Accuracy is: 0.8796296296296297\n",
            "Model Recall is: 0.8770827231254243\n",
            "Model Precision is: 0.8771080030327134\n",
            "Model F1-score is: 0.8759345252138775\n"
          ],
          "name": "stdout"
        },
        {
          "output_type": "display_data",
          "data": {
            "image/png": "[encoded data removed]",
            "text/plain": [
              "<Figure size 432x288 with 1 Axes>"
            ]
          },
          "metadata": {
            "tags": []
          }
        }
      ]
    },
    {
      "cell_type": "code",
      "metadata": {
        "id": "ydIk7txulDl0",
        "colab_type": "code",
        "colab": {},
        "outputId": "34beaaae-c16d-4706-e4d6-e0a27e51bfd7"
      },
      "source": [
        "total = 0\n",
        "correct_predict  = 0\n",
        "for i in range(len(classNames)):\n",
        "    for j in range(len(classNames)):\n",
        "        total+=confusion[i][j]\n",
        "        if(i == j):\n",
        "            correct_predict+=confusion[i][j]\n",
        "\n",
        "r = len(classNames)\n",
        "x = 0\n",
        "predict_sum = [sum(x) for x in zip(*confusion)]\n",
        "actual_sum = np.sum(confusion,axis=1).tolist()\n",
        "\n",
        "print(\"Accuracy of Each Class:\")\n",
        "\n",
        "for i in range(r):\n",
        "    c = 0\n",
        "    x = correct_predict + predict_sum[i]\n",
        "    c = x/total\n",
        "    print(\"Class \",classNames[i],\":\",c)\n",
        "    x = 0\n",
        "\n",
        "print()\n",
        "print(\"Recall of Each Class:\")\n",
        "for i in range(r):\n",
        "    c = 0\n",
        "    c = confusion[i,i]/actual_sum[i]\n",
        "    print(\"Class \",classNames[i],\" is :\",c)\n",
        "    \n",
        "print()\n",
        "print(\"Precision of Each Class:\")    \n",
        "for i in range(r):\n",
        "    c = 0\n",
        "    c = confusion[i,i]/predict_sum[i]\n",
        "    print(\"Class \",classNames[i],\" is :\",c)\n"
      ],
      "execution_count": null,
      "outputs": [
        {
          "output_type": "stream",
          "text": [
            "Accuracy of Each Class:\n",
            "Class  1 : 0.9920634920634921\n",
            "Class  2 : 0.9880952380952381\n",
            "Class  3 : 0.9801587301587301\n",
            "Class  0 : 0.9947089947089947\n",
            "Class  7 : 0.9695767195767195\n",
            "Class  6 : 0.9722222222222222\n",
            "Class  4 : 0.9761904761904762\n",
            "Class  8 : 0.9907407407407407\n",
            "Class  9 : 0.9761904761904762\n",
            "Class  5 : 0.9563492063492064\n",
            "\n",
            "Recall of Each Class:\n",
            "Class  1  is : 0.9418604651162791\n",
            "Class  2  is : 0.9302325581395349\n",
            "Class  3  is : 0.9402985074626866\n",
            "Class  0  is : 0.8780487804878049\n",
            "Class  7  is : 0.84\n",
            "Class  6  is : 0.8253968253968254\n",
            "Class  4  is : 0.8961038961038961\n",
            "Class  8  is : 0.8571428571428571\n",
            "Class  9  is : 0.8142857142857143\n",
            "Class  5  is : 0.847457627118644\n",
            "\n",
            "Precision of Each Class:\n",
            "Class  1  is : 0.9529411764705882\n",
            "Class  2  is : 0.975609756097561\n",
            "Class  3  is : 0.8289473684210527\n",
            "Class  0  is : 0.8275862068965517\n",
            "Class  7  is : 0.9264705882352942\n",
            "Class  6  is : 0.7428571428571429\n",
            "Class  4  is : 0.9452054794520548\n",
            "Class  8  is : 0.9285714285714286\n",
            "Class  9  is : 0.7808219178082192\n",
            "Class  5  is : 0.8620689655172413\n"
          ],
          "name": "stdout"
        }
      ]
    },
    {
      "cell_type": "code",
      "metadata": {
        "id": "oHBIk9TPlDmL",
        "colab_type": "code",
        "colab": {}
      },
      "source": [
        ""
      ],
      "execution_count": null,
      "outputs": []
    }
  ]
}